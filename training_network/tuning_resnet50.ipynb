{
 "cells": [
  {
   "cell_type": "code",
   "execution_count": 1,
   "metadata": {},
   "outputs": [
    {
     "name": "stderr",
     "output_type": "stream",
     "text": [
      "c:\\Users\\user\\anaconda3\\envs\\MAIN_ENV\\lib\\site-packages\\tqdm\\auto.py:21: TqdmWarning: IProgress not found. Please update jupyter and ipywidgets. See https://ipywidgets.readthedocs.io/en/stable/user_install.html\n",
      "  from .autonotebook import tqdm as notebook_tqdm\n"
     ]
    }
   ],
   "source": [
    "from transformers import AutoImageProcessor, ResNetForImageClassification\n",
    "import torch\n",
    "import torch.nn as nn\n",
    "import torch.nn.functional as F\n",
    "import torch.optim as optim\n",
    "from torch.utils.data import Dataset, DataLoader\n",
    "from tqdm import tqdm\n",
    "import matplotlib.pyplot as plt\n",
    "import os\n",
    "from PIL import Image\n",
    "import numpy as np\n",
    "import pickle"
   ]
  },
  {
   "cell_type": "code",
   "execution_count": 2,
   "metadata": {},
   "outputs": [
    {
     "name": "stderr",
     "output_type": "stream",
     "text": [
      "Could not find image processor class in the image processor config or the model config. Loading based on pattern matching with the model's feature extractor configuration.\n"
     ]
    }
   ],
   "source": [
    "processor = AutoImageProcessor.from_pretrained(\"microsoft/resnet-50\")\n",
    "net = ResNetForImageClassification.from_pretrained(\"microsoft/resnet-50\")\n",
    "\n",
    "net.classifier = torch.nn.Sequential(torch.nn.Flatten(start_dim=1, end_dim=-1),\n",
    "                                     torch.nn.Linear(2048, 8))\n",
    "\n",
    "GPU = torch.device(\"cuda\")\n",
    "net.to(GPU)\n",
    "\n",
    "loss = nn.CrossEntropyLoss()\n",
    "optimizer = optim.Adam(net.parameters(), lr=0.0001)"
   ]
  },
  {
   "cell_type": "code",
   "execution_count": 3,
   "metadata": {},
   "outputs": [],
   "source": [
    "def load_image(image_path):\n",
    "    return Image.open(image_path)"
   ]
  },
  {
   "cell_type": "code",
   "execution_count": 4,
   "metadata": {},
   "outputs": [],
   "source": [
    "def train_nn(question_tensor, answer_tensor, model, loss=loss, optimizer=optimizer):\n",
    "    optimizer.zero_grad()\n",
    "    outputs = model(question_tensor).logits\n",
    "    loss = loss(outputs, answer_tensor)\n",
    "    loss.backward()\n",
    "    optimizer.step()\n",
    "    return loss.item()"
   ]
  },
  {
   "cell_type": "code",
   "execution_count": 5,
   "metadata": {},
   "outputs": [],
   "source": [
    "class ImageDataset():\n",
    "    def __init__(self, main_dir):\n",
    "        self.questions = []\n",
    "        self.answers = []\n",
    "        \n",
    "        self.class_folders = os.listdir(main_dir)\n",
    "        \n",
    "        for x in tqdm(range(len(self.class_folders))):\n",
    "            self.current_dir = os.listdir(f\"{main_dir}/{self.class_folders[x]}\")\n",
    "            \n",
    "            for y in self.current_dir:\n",
    "                self.questions.append(processor(load_image(f\"{main_dir}/{self.class_folders[x]}/{y}\"), return_tensors=\"pt\")[\"pixel_values\"])\n",
    "                self.answers.append(torch.eye(len(self.class_folders))[x])\n",
    "    \n",
    "    def __len__(self):\n",
    "        return len(self.questions)\n",
    "\n",
    "    def __getitem__(self, idx):\n",
    "        return self.questions[idx], self.answers[idx]"
   ]
  },
  {
   "cell_type": "code",
   "execution_count": 6,
   "metadata": {},
   "outputs": [
    {
     "name": "stdout",
     "output_type": "stream",
     "text": [
      "loading train / test datasets\n"
     ]
    }
   ],
   "source": [
    "reset_datasets = False\n",
    "batch_size = 45\n",
    "\n",
    "if reset_datasets:\n",
    "    print(\"resetting train / test datasets\")\n",
    "    \n",
    "    train_dataset = ImageDataset(r\"C:\\Users\\user\\Desktop\\AUTOENCODER\\old (original injury dataset)\\TRAIN\")\n",
    "    test_dataset = ImageDataset(r\"C:\\Users\\user\\Desktop\\AUTOENCODER\\old (original injury dataset)\\TEST\")\n",
    "\n",
    "    with open(\"train_set_dump.pkl\", \"wb\") as f:\n",
    "        pickle.dump(train_dataset, f)\n",
    "    \n",
    "    with open(\"test_set_dump.pkl\", \"wb\") as f:\n",
    "        pickle.dump(test_dataset, f)\n",
    "else:\n",
    "    print(\"loading train / test datasets\")\n",
    "    \n",
    "    with open(\"train_set_dump.pkl\", \"rb\") as f:\n",
    "        train_dataset = pickle.load(f)\n",
    "        \n",
    "    with open(\"test_set_dump.pkl\", \"rb\") as f:\n",
    "        test_dataset = pickle.load(f)\n",
    "\n",
    "train_loader = DataLoader(train_dataset, batch_size=batch_size, shuffle=True)\n",
    "test_loader = DataLoader(test_dataset, batch_size=1, shuffle=True)"
   ]
  },
  {
   "cell_type": "code",
   "execution_count": 7,
   "metadata": {},
   "outputs": [
    {
     "name": "stderr",
     "output_type": "stream",
     "text": [
      "100%|██████████| 50/50 [1:00:47<00:00, 72.95s/it]\n"
     ]
    }
   ],
   "source": [
    "loss_list = []\n",
    "accuracy_list = []\n",
    "outer_loop_break = False  # Variable to break out of the outer loop\n",
    "\n",
    "for y in tqdm(range(50)):\n",
    "    for x in enumerate(train_loader):\n",
    "        \n",
    "        x[1][0] = x[1][0].to(GPU)\n",
    "        x[1][1] = x[1][1].to(GPU)\n",
    "        \n",
    "        loss_list.append(train_nn(x[1][0][:, 0, :, :,], x[1][1], net))\n",
    "            \n",
    "        x[1][0] = x[1][0].cpu()\n",
    "        x[1][1] = x[1][1].cpu()\n",
    "        \n",
    "    errors = 0\n",
    "    \n",
    "    for z in enumerate(test_loader):\n",
    "        z[1][0] = z[1][0].to(GPU)\n",
    "        z[1][1] = z[1][1].to(GPU)\n",
    "        \n",
    "        if torch.argmax(z[1][1][0]) != torch.argmax(net(z[1][0][0]).logits):\n",
    "            errors += 1\n",
    "            \n",
    "        z[1][0] = z[1][0].cpu()\n",
    "        z[1][1] = z[1][1].cpu()\n",
    "        \n",
    "    accuracy_list.append(errors)\n",
    "    \n",
    "    if outer_loop_break:\n",
    "        break  # Breaks out of the outer loop"
   ]
  },
  {
   "cell_type": "code",
   "execution_count": 16,
   "metadata": {},
   "outputs": [
    {
     "name": "stdout",
     "output_type": "stream",
     "text": [
      "error rate: 22.291666666666668%\n",
      "success rate: 77.708%\n",
      "random success rate: 14.285714285714285%\n"
     ]
    }
   ],
   "source": [
    "print(f\"error rate: {errors / len(test_dataset) * 100}%\")\n",
    "print(f\"success rate: {100 - errors / len(test_dataset) * 100:.03f}%\")\n",
    "print(f\"random success rate: {1 / 7 * 100}%\")"
   ]
  },
  {
   "cell_type": "code",
   "execution_count": 9,
   "metadata": {},
   "outputs": [],
   "source": [
    "errors = 0\n",
    "\n",
    "for z in enumerate(test_loader):\n",
    "    z[1][0] = z[1][0].to(GPU)\n",
    "    z[1][1] = z[1][1].to(GPU)\n",
    "    \n",
    "    if torch.argmax(z[1][1][0]) != torch.argmax(net(z[1][0][0]).logits):\n",
    "        errors += 1\n",
    "    \n",
    "    z[1][0] = z[1][0].cpu()\n",
    "    z[1][1] = z[1][1].cpu()"
   ]
  },
  {
   "cell_type": "code",
   "execution_count": 10,
   "metadata": {},
   "outputs": [
    {
     "data": {
      "text/plain": [
       "107"
      ]
     },
     "execution_count": 10,
     "metadata": {},
     "output_type": "execute_result"
    }
   ],
   "source": [
    "errors"
   ]
  },
  {
   "cell_type": "code",
   "execution_count": 11,
   "metadata": {},
   "outputs": [
    {
     "data": {
      "text/plain": [
       "tensor(36)"
      ]
     },
     "execution_count": 11,
     "metadata": {},
     "output_type": "execute_result"
    }
   ],
   "source": [
    "torch.argmin(torch.tensor(accuracy_list))"
   ]
  },
  {
   "cell_type": "code",
   "execution_count": 12,
   "metadata": {},
   "outputs": [
    {
     "data": {
      "text/plain": [
       "[<matplotlib.lines.Line2D at 0x27ffabaae80>]"
      ]
     },
     "execution_count": 12,
     "metadata": {},
     "output_type": "execute_result"
    },
    {
     "data": {
      "image/png": "[encoded data removed]",
      "text/plain": [
       "<Figure size 640x480 with 1 Axes>"
      ]
     },
     "metadata": {},
     "output_type": "display_data"
    }
   ],
   "source": [
    "plt.plot(accuracy_list)"
   ]
  },
  {
   "cell_type": "code",
   "execution_count": 13,
   "metadata": {},
   "outputs": [
    {
     "data": {
      "text/plain": [
       "[<matplotlib.lines.Line2D at 0x27feebc38b0>]"
      ]
     },
     "execution_count": 13,
     "metadata": {},
     "output_type": "execute_result"
    },
    {
     "data": {
      "image/png": "[encoded data removed]",
      "text/plain": [
       "<Figure size 640x480 with 1 Axes>"
      ]
     },
     "metadata": {},
     "output_type": "display_data"
    }
   ],
   "source": [
    "plt.plot(loss_list)"
   ]
  },
  {
   "cell_type": "code",
   "execution_count": 14,
   "metadata": {},
   "outputs": [],
   "source": [
    "reset_model_checkpoint = False\n",
    "\n",
    "if reset_model_checkpoint:\n",
    "    torch.save(net.state_dict(), fr\"main_classifier_chekpoint_8cls_{100 - errors / len(test_dataset) * 100:.03f}%acc.pth\")"
   ]
  },
  {
   "cell_type": "code",
   "execution_count": 15,
   "metadata": {},
   "outputs": [],
   "source": [
    "load_model_checkpoint = False\n",
    "\n",
    "if load_model_checkpoint:\n",
    "    state_dict = torch.load(r\"main_classifier_chekpoint_74.166%acc.pth\")\n",
    "    net.load_state_dict(state_dict)"
   ]
  },
  {
   "cell_type": "code",
   "execution_count": null,
   "metadata": {},
   "outputs": [],
   "source": []
  }
 ],
 "metadata": {
  "kernelspec": {
   "display_name": "MAIN_ENV",
   "language": "python",
   "name": "python3"
  },
  "language_info": {
   "codemirror_mode": {
    "name": "ipython",
    "version": 3
   },
   "file_extension": ".py",
   "mimetype": "text/x-python",
   "name": "python",
   "nbconvert_exporter": "python",
   "pygments_lexer": "ipython3",
   "version": "3.9.16"
  },
  "orig_nbformat": 4
 },
 "nbformat": 4,
 "nbformat_minor": 2
}
